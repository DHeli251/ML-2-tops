{
 "cells": [
  {
   "cell_type": "code",
   "execution_count": null,
   "id": "3f58c4c8",
   "metadata": {},
   "outputs": [],
   "source": [
    "# Importing the Python Liabraries"
   ]
  },
  {
   "cell_type": "code",
   "execution_count": null,
   "id": "47db8103",
   "metadata": {},
   "outputs": [],
   "source": [
    "import numpy as np\n",
    "import pandas as pd\n",
    "import matplotlib.pyplot as plt\n",
    "import seaborn as sns\n"
   ]
  },
  {
   "cell_type": "code",
   "execution_count": null,
   "id": "dda55c32",
   "metadata": {},
   "outputs": [],
   "source": [
    "import warnings\n",
    "warnings.filterwarnings('ignore')"
   ]
  },
  {
   "cell_type": "markdown",
   "id": "31bbb5de",
   "metadata": {},
   "source": [
    "# Loading the Dataset"
   ]
  },
  {
   "cell_type": "code",
   "execution_count": null,
   "id": "576f28d8",
   "metadata": {},
   "outputs": [],
   "source": [
    "df = pd.read_csv(\"cars.csv\")"
   ]
  },
  {
   "cell_type": "code",
   "execution_count": null,
   "id": "3f0b5525",
   "metadata": {},
   "outputs": [],
   "source": [
    "df"
   ]
  },
  {
   "cell_type": "markdown",
   "id": "49e6a34d",
   "metadata": {},
   "source": [
    "## Display first five observation"
   ]
  },
  {
   "cell_type": "code",
   "execution_count": null,
   "id": "233226e6",
   "metadata": {},
   "outputs": [],
   "source": [
    "df.head()"
   ]
  },
  {
   "cell_type": "markdown",
   "id": "2260acf0",
   "metadata": {},
   "source": [
    "## Display last five observation"
   ]
  },
  {
   "cell_type": "code",
   "execution_count": null,
   "id": "1ddf267c",
   "metadata": {},
   "outputs": [],
   "source": [
    "df.tail()"
   ]
  },
  {
   "cell_type": "markdown",
   "id": "62c5c483",
   "metadata": {},
   "source": [
    "## Display any random one sample data"
   ]
  },
  {
   "cell_type": "code",
   "execution_count": null,
   "id": "e9f18a4c",
   "metadata": {},
   "outputs": [],
   "source": [
    "df.sample()"
   ]
  },
  {
   "cell_type": "code",
   "execution_count": null,
   "id": "234c4f9f",
   "metadata": {},
   "outputs": [],
   "source": [
    "df.info()"
   ]
  },
  {
   "cell_type": "markdown",
   "id": "f06a7e2c",
   "metadata": {},
   "source": [
    "# Observation"
   ]
  },
  {
   "cell_type": "markdown",
   "id": "a8660fe1",
   "metadata": {},
   "source": [
    "Data has only float, object and integer values."
   ]
  },
  {
   "cell_type": "markdown",
   "id": "ac5e2803",
   "metadata": {},
   "source": [
    "Five columns have null/missing values."
   ]
  },
  {
   "cell_type": "markdown",
   "id": "064e2425",
   "metadata": {},
   "source": [
    "## Display the Variable names and their Data types"
   ]
  },
  {
   "cell_type": "code",
   "execution_count": null,
   "id": "67528240",
   "metadata": {},
   "outputs": [],
   "source": [
    "df.dtypes"
   ]
  },
  {
   "cell_type": "markdown",
   "id": "ed93052b",
   "metadata": {},
   "source": [
    "## check how many columns have not null values"
   ]
  },
  {
   "cell_type": "code",
   "execution_count": null,
   "id": "6906fa96",
   "metadata": {},
   "outputs": [],
   "source": [
    "df.isnull()"
   ]
  },
  {
   "cell_type": "markdown",
   "id": "f86bcd8b",
   "metadata": {},
   "source": [
    "## Check how many null values have each column"
   ]
  },
  {
   "cell_type": "code",
   "execution_count": null,
   "id": "4bd1d535",
   "metadata": {},
   "outputs": [],
   "source": [
    "df.isnull().sum()"
   ]
  },
  {
   "cell_type": "code",
   "execution_count": null,
   "id": "c16289c8",
   "metadata": {},
   "outputs": [],
   "source": [
    "df.isnull().sum().sort_values(ascending = False)"
   ]
  },
  {
   "cell_type": "code",
   "execution_count": null,
   "id": "15f6b2f7",
   "metadata": {},
   "outputs": [],
   "source": [
    "((df.isnull().sum()/len(df))*100).sort_values(ascending = True)"
   ]
  },
  {
   "cell_type": "code",
   "execution_count": null,
   "id": "ae806360",
   "metadata": {},
   "outputs": [],
   "source": [
    "np.round(((df.isnull().sum()/len(df))*100).sort_values(ascending = False),2)\n"
   ]
  },
  {
   "cell_type": "code",
   "execution_count": null,
   "id": "db2a9eed",
   "metadata": {},
   "outputs": [],
   "source": [
    "df.shape"
   ]
  },
  {
   "cell_type": "markdown",
   "id": "f74fa15e",
   "metadata": {},
   "source": [
    "## Observation"
   ]
  },
  {
   "cell_type": "markdown",
   "id": "535a5278",
   "metadata": {},
   "source": [
    "There are 11914 Rows and 16 columns in this Dataset"
   ]
  },
  {
   "cell_type": "markdown",
   "id": "594d0547",
   "metadata": {},
   "source": [
    "# Engine HP  "
   ]
  },
  {
   "cell_type": "code",
   "execution_count": null,
   "id": "af2ea198",
   "metadata": {},
   "outputs": [],
   "source": [
    "df[df['Engine HP'].isnull()]"
   ]
  },
  {
   "cell_type": "code",
   "execution_count": null,
   "id": "3f70ebf3",
   "metadata": {},
   "outputs": [],
   "source": [
    "df['Engine HP']"
   ]
  },
  {
   "cell_type": "code",
   "execution_count": null,
   "id": "f13638bf",
   "metadata": {},
   "outputs": [],
   "source": [
    "df.describe()['Engine HP']"
   ]
  },
  {
   "cell_type": "code",
   "execution_count": null,
   "id": "984ced5f",
   "metadata": {},
   "outputs": [],
   "source": [
    "df['Engine HP'].fillna(int(df['Engine HP'].mean()), inplace = True)"
   ]
  },
  {
   "cell_type": "code",
   "execution_count": null,
   "id": "c06524e2",
   "metadata": {},
   "outputs": [],
   "source": [
    "df"
   ]
  },
  {
   "cell_type": "markdown",
   "id": "a73e7390",
   "metadata": {},
   "source": [
    "## Observation\n",
    "- There are 69 rows have null values.\n",
    "- mean is 249.38 and 50% percentile is 227.00000 which is nearest to mean means there is no outlier present in this column so we are impute values by mean.\n",
    " \n"
   ]
  },
  {
   "cell_type": "markdown",
   "id": "0937e661",
   "metadata": {},
   "source": [
    " # Engine Cylinder"
   ]
  },
  {
   "cell_type": "code",
   "execution_count": null,
   "id": "8a5ef0b0",
   "metadata": {},
   "outputs": [],
   "source": [
    "df[df['Engine Cylinders'].isnull()]"
   ]
  },
  {
   "cell_type": "code",
   "execution_count": null,
   "id": "ddeef285",
   "metadata": {},
   "outputs": [],
   "source": [
    "df.describe()['Engine Cylinders']"
   ]
  },
  {
   "cell_type": "code",
   "execution_count": null,
   "id": "83bb8fbc",
   "metadata": {},
   "outputs": [],
   "source": [
    "df['Engine Cylinders'] = df['Engine Cylinders'].fillna(df['Engine Cylinders'].mean())"
   ]
  },
  {
   "cell_type": "code",
   "execution_count": null,
   "id": "44b4255b",
   "metadata": {},
   "outputs": [],
   "source": [
    "df"
   ]
  },
  {
   "cell_type": "markdown",
   "id": "471db733",
   "metadata": {},
   "source": [
    "## Observation\n",
    "- There are 30 rows have null values.\n",
    "- mean is 5.6 and 50% percentile is 6.0 which is nearest to mean means there is no outlier present in this column so we are impute values by mean. "
   ]
  },
  {
   "cell_type": "markdown",
   "id": "a535c5b6",
   "metadata": {},
   "source": [
    "# Engine Fuel Type"
   ]
  },
  {
   "cell_type": "code",
   "execution_count": null,
   "id": "8a69794f",
   "metadata": {},
   "outputs": [],
   "source": [
    "df['Engine Fuel Type'].isnull().sum()"
   ]
  },
  {
   "cell_type": "code",
   "execution_count": null,
   "id": "8f3868a1",
   "metadata": {},
   "outputs": [],
   "source": [
    "df[df['Engine Fuel Type'].isnull()]"
   ]
  },
  {
   "cell_type": "code",
   "execution_count": null,
   "id": "75f8aab2",
   "metadata": {},
   "outputs": [],
   "source": [
    "df['Engine Fuel Type'].isnull().sum()"
   ]
  },
  {
   "cell_type": "code",
   "execution_count": null,
   "id": "0930e94f",
   "metadata": {},
   "outputs": [],
   "source": [
    "md = df['Engine Fuel Type'].mode() ### impute the values \n",
    "print(md)"
   ]
  },
  {
   "cell_type": "code",
   "execution_count": null,
   "id": "a9840b0f",
   "metadata": {},
   "outputs": [],
   "source": [
    "print(md[0])"
   ]
  },
  {
   "cell_type": "code",
   "execution_count": null,
   "id": "ef96816c",
   "metadata": {},
   "outputs": [],
   "source": [
    "df['Engine Fuel Type'] = df['Engine Fuel Type'].fillna(md[0])   ###categorical \n",
    "df"
   ]
  },
  {
   "cell_type": "code",
   "execution_count": null,
   "id": "51965b22",
   "metadata": {},
   "outputs": [],
   "source": [
    "df['Engine Fuel Type'].isnull().sum()"
   ]
  },
  {
   "cell_type": "markdown",
   "id": "0e190b6c",
   "metadata": {},
   "source": [
    "## Observation\n",
    "- There are 3 rows have null values.\n",
    "- These Column is categorical that's why using Mode() for imputation"
   ]
  },
  {
   "cell_type": "markdown",
   "id": "9d36b2ce",
   "metadata": {},
   "source": [
    "# Market Category "
   ]
  },
  {
   "cell_type": "code",
   "execution_count": null,
   "id": "cc0fc243",
   "metadata": {},
   "outputs": [],
   "source": [
    "df['Market Category'].isnull().sum()"
   ]
  },
  {
   "cell_type": "code",
   "execution_count": null,
   "id": "8d8c3c45",
   "metadata": {},
   "outputs": [],
   "source": [
    "df[df['Market Category'].isnull()]"
   ]
  },
  {
   "cell_type": "code",
   "execution_count": null,
   "id": "439781b8",
   "metadata": {},
   "outputs": [],
   "source": [
    "df.describe()"
   ]
  },
  {
   "cell_type": "code",
   "execution_count": null,
   "id": "5fc006bf",
   "metadata": {},
   "outputs": [],
   "source": [
    "df['Market Category'].mode()"
   ]
  },
  {
   "cell_type": "code",
   "execution_count": null,
   "id": "ada01853",
   "metadata": {},
   "outputs": [],
   "source": [
    "df['Market Category'].fillna(df['Market Category'].mode()[0], inplace = True)"
   ]
  },
  {
   "cell_type": "code",
   "execution_count": null,
   "id": "7a605cfe",
   "metadata": {},
   "outputs": [],
   "source": [
    "df"
   ]
  },
  {
   "cell_type": "code",
   "execution_count": null,
   "id": "11d8538f",
   "metadata": {},
   "outputs": [],
   "source": [
    "df['Market Category'].isnull().sum()"
   ]
  },
  {
   "cell_type": "markdown",
   "id": "e5ee85c1",
   "metadata": {},
   "source": [
    "## Observation\n",
    "- There are 3742 rows have null values.\n",
    "- These Column is categorical that's why using Mode() for imputation"
   ]
  },
  {
   "cell_type": "markdown",
   "id": "06fdee3e",
   "metadata": {},
   "source": [
    "# Number of Doors"
   ]
  },
  {
   "cell_type": "code",
   "execution_count": null,
   "id": "064353ed",
   "metadata": {},
   "outputs": [],
   "source": [
    "df.describe()['Number of Doors']"
   ]
  },
  {
   "cell_type": "code",
   "execution_count": null,
   "id": "9795e399",
   "metadata": {},
   "outputs": [],
   "source": [
    "df['Number of Doors'] = df['Number of Doors'].fillna(df['Number of Doors'].mean())"
   ]
  },
  {
   "cell_type": "code",
   "execution_count": null,
   "id": "c049a747",
   "metadata": {},
   "outputs": [],
   "source": [
    "df"
   ]
  },
  {
   "cell_type": "markdown",
   "id": "8e2e0a60",
   "metadata": {},
   "source": [
    "## Observation\n",
    "\n",
    "- mean is 3.4 and 50% percentile is 4.0 which is nearest to mean means there is no outlier present in this column so we are impute values by mean. "
   ]
  },
  {
   "cell_type": "code",
   "execution_count": null,
   "id": "68b100a5",
   "metadata": {},
   "outputs": [],
   "source": [
    "df.isnull().sum()"
   ]
  },
  {
   "cell_type": "markdown",
   "id": "f9fbe7b3",
   "metadata": {},
   "source": [
    "- In all null values impute some values by statastical methods Mean, Meadian or Mode and make all of them not null values."
   ]
  },
  {
   "cell_type": "code",
   "execution_count": null,
   "id": "82253620",
   "metadata": {},
   "outputs": [],
   "source": [
    "df.dtypes"
   ]
  },
  {
   "cell_type": "code",
   "execution_count": null,
   "id": "2a53b9a8",
   "metadata": {},
   "outputs": [],
   "source": [
    "df['Year'] = df['Year'].astype(float)"
   ]
  },
  {
   "cell_type": "code",
   "execution_count": null,
   "id": "50b765ef",
   "metadata": {},
   "outputs": [],
   "source": [
    "df['highway MPG'] = df['highway MPG'].astype(float)"
   ]
  },
  {
   "cell_type": "code",
   "execution_count": null,
   "id": "13ae3759",
   "metadata": {},
   "outputs": [],
   "source": [
    "df['city mpg'] = df['city mpg'].astype(float)"
   ]
  },
  {
   "cell_type": "code",
   "execution_count": null,
   "id": "0a2698d3",
   "metadata": {},
   "outputs": [],
   "source": [
    "df['Popularity'] = df['Popularity'].astype(float)"
   ]
  },
  {
   "cell_type": "code",
   "execution_count": null,
   "id": "e702e8d4",
   "metadata": {},
   "outputs": [],
   "source": [
    "df['MSRP'] = df['MSRP'].astype(float)\n",
    "df.dtypes"
   ]
  },
  {
   "cell_type": "markdown",
   "id": "3f80c8a1",
   "metadata": {},
   "source": [
    "- Convert Object data types in float"
   ]
  },
  {
   "cell_type": "markdown",
   "id": "133f4fec",
   "metadata": {},
   "source": [
    "# Check Outliers"
   ]
  },
  {
   "cell_type": "code",
   "execution_count": null,
   "id": "d3e38a3b",
   "metadata": {},
   "outputs": [],
   "source": [
    "df.skew()"
   ]
  },
  {
   "cell_type": "markdown",
   "id": "d5ef3e5e",
   "metadata": {},
   "source": [
    "# Year"
   ]
  },
  {
   "cell_type": "code",
   "execution_count": null,
   "id": "6c3232dc",
   "metadata": {},
   "outputs": [],
   "source": [
    "plt.figure(figsize = (16,5))\n",
    "plt.subplot(1,2,1)\n",
    "sns.distplot(df['Year'])\n",
    "plt.show()"
   ]
  },
  {
   "cell_type": "markdown",
   "id": "8202cb00",
   "metadata": {},
   "source": [
    "## Observation"
   ]
  },
  {
   "cell_type": "markdown",
   "id": "47438753",
   "metadata": {},
   "source": [
    "- Year is Left skewed.\n",
    "- It means there are presence some outliers."
   ]
  },
  {
   "cell_type": "code",
   "execution_count": null,
   "id": "ad5ff90f",
   "metadata": {},
   "outputs": [],
   "source": [
    "df['Year'].describe()"
   ]
  },
  {
   "cell_type": "markdown",
   "id": "a272874c",
   "metadata": {},
   "source": [
    "# Finding the IQR"
   ]
  },
  {
   "cell_type": "code",
   "execution_count": null,
   "id": "d4b01db2",
   "metadata": {},
   "outputs": [],
   "source": [
    "percentile25 = df['Year'].quantile(0.25)\n",
    "percentile75 = df['Year'].quantile(0.75)"
   ]
  },
  {
   "cell_type": "code",
   "execution_count": null,
   "id": "172b2163",
   "metadata": {},
   "outputs": [],
   "source": [
    "percentile25"
   ]
  },
  {
   "cell_type": "code",
   "execution_count": null,
   "id": "1a8083e4",
   "metadata": {},
   "outputs": [],
   "source": [
    "percentile75"
   ]
  },
  {
   "cell_type": "code",
   "execution_count": null,
   "id": "7d33add3",
   "metadata": {},
   "outputs": [],
   "source": [
    "iqr = percentile75 - percentile25"
   ]
  },
  {
   "cell_type": "code",
   "execution_count": null,
   "id": "4e449786",
   "metadata": {},
   "outputs": [],
   "source": [
    "iqr"
   ]
  },
  {
   "cell_type": "code",
   "execution_count": null,
   "id": "ebb9eb5b",
   "metadata": {},
   "outputs": [],
   "source": [
    "upper_limit = percentile75 + 1.5 * iqr\n",
    "lower_limit = percentile25 - 1.5 * iqr"
   ]
  },
  {
   "cell_type": "code",
   "execution_count": null,
   "id": "8606b23f",
   "metadata": {},
   "outputs": [],
   "source": [
    "print(\"Upper limit\", upper_limit)\n",
    "print(\"Lower limit\", lower_limit)"
   ]
  },
  {
   "cell_type": "markdown",
   "id": "64407cf3",
   "metadata": {},
   "source": [
    "## Observation"
   ]
  },
  {
   "cell_type": "markdown",
   "id": "728c9154",
   "metadata": {},
   "source": [
    "- The outliers only at upper limit because the values are far from 0."
   ]
  },
  {
   "cell_type": "markdown",
   "id": "5f9a94c0",
   "metadata": {},
   "source": [
    "# Finding outliers"
   ]
  },
  {
   "cell_type": "code",
   "execution_count": null,
   "id": "43501b94",
   "metadata": {},
   "outputs": [],
   "source": [
    "df[df['Year'] > upper_limit]"
   ]
  },
  {
   "cell_type": "code",
   "execution_count": null,
   "id": "a125fd36",
   "metadata": {},
   "outputs": [],
   "source": [
    "df[df['Year'] < lower_limit]"
   ]
  },
  {
   "cell_type": "markdown",
   "id": "412ddea8",
   "metadata": {},
   "source": [
    "# Capping"
   ]
  },
  {
   "cell_type": "code",
   "execution_count": null,
   "id": "d20d873a",
   "metadata": {},
   "outputs": [],
   "source": [
    "new_df_cap = df.copy()\n",
    "\n",
    "new_df_cap['Year'] = np.where(\n",
    "    new_df_cap['Year'] > upper_limit,\n",
    "    upper_limit,\n",
    "    np.where(\n",
    "        new_df_cap['Year'] < lower_limit,\n",
    "        lower_limit,\n",
    "        new_df_cap['Year']\n",
    "    )\n",
    ")"
   ]
  },
  {
   "cell_type": "code",
   "execution_count": null,
   "id": "510b09f9",
   "metadata": {},
   "outputs": [],
   "source": [
    "new_df_cap.shape"
   ]
  },
  {
   "cell_type": "code",
   "execution_count": null,
   "id": "98c7088c",
   "metadata": {},
   "outputs": [],
   "source": [
    "# Comparing\n",
    "\n",
    "plt.figure(figsize=(16,8))\n",
    "plt.subplot(2,2,1)\n",
    "sns.distplot(df['Year'])\n",
    "\n",
    "plt.subplot(2,2,2)\n",
    "sns.boxplot(df['Year'])\n",
    "\n",
    "plt.subplot(2,2,3)\n",
    "sns.distplot(new_df_cap['Year'])\n",
    "\n",
    "plt.subplot(2,2,4)\n",
    "sns.boxplot(new_df_cap['Year'])\n",
    "\n",
    "plt.show()\n"
   ]
  },
  {
   "cell_type": "markdown",
   "id": "336bb6c4",
   "metadata": {},
   "source": [
    "# Engine HP"
   ]
  },
  {
   "cell_type": "code",
   "execution_count": null,
   "id": "22df897b",
   "metadata": {},
   "outputs": [],
   "source": [
    "plt.figure(figsize = (16,5))\n",
    "plt.subplot(1,2,1)\n",
    "sns.distplot(df['Engine HP'])\n",
    "plt.show()"
   ]
  },
  {
   "cell_type": "code",
   "execution_count": null,
   "id": "09f85961",
   "metadata": {},
   "outputs": [],
   "source": [
    "df['Engine HP'].skew()"
   ]
  },
  {
   "cell_type": "code",
   "execution_count": null,
   "id": "eae039c6",
   "metadata": {},
   "outputs": [],
   "source": [
    "df['Engine HP'].describe()"
   ]
  },
  {
   "cell_type": "markdown",
   "id": "be38cec4",
   "metadata": {},
   "source": [
    "## Finding the IQR\n"
   ]
  },
  {
   "cell_type": "code",
   "execution_count": null,
   "id": "f9ba0e89",
   "metadata": {},
   "outputs": [],
   "source": [
    "percentile25 = df['Engine HP'].quantile(0.25)\n",
    "percentile75 = df['Engine HP'].quantile(0.75)"
   ]
  },
  {
   "cell_type": "code",
   "execution_count": null,
   "id": "cac2e954",
   "metadata": {},
   "outputs": [],
   "source": [
    "percentile25"
   ]
  },
  {
   "cell_type": "code",
   "execution_count": null,
   "id": "46503352",
   "metadata": {},
   "outputs": [],
   "source": [
    "percentile75"
   ]
  },
  {
   "cell_type": "code",
   "execution_count": null,
   "id": "71b9b7d9",
   "metadata": {},
   "outputs": [],
   "source": [
    "iqr = percentile75 - percentile25"
   ]
  },
  {
   "cell_type": "code",
   "execution_count": null,
   "id": "78dce978",
   "metadata": {},
   "outputs": [],
   "source": [
    "iqr"
   ]
  },
  {
   "cell_type": "code",
   "execution_count": null,
   "id": "957e8ab5",
   "metadata": {},
   "outputs": [],
   "source": [
    "upper_limit = percentile75 + 1.5 * iqr\n",
    "lower_limit = percentile25 - 1.5 * iqr"
   ]
  },
  {
   "cell_type": "code",
   "execution_count": null,
   "id": "74d5b1ba",
   "metadata": {},
   "outputs": [],
   "source": [
    "print(\"Upper limit\", upper_limit)\n",
    "print(\"Lower limit\", lower_limit)"
   ]
  },
  {
   "cell_type": "markdown",
   "id": "90aefe2c",
   "metadata": {},
   "source": [
    "# Finding outliers"
   ]
  },
  {
   "cell_type": "code",
   "execution_count": null,
   "id": "394d4eab",
   "metadata": {},
   "outputs": [],
   "source": [
    "df[df['Engine HP'] > upper_limit]"
   ]
  },
  {
   "cell_type": "code",
   "execution_count": null,
   "id": "21ca4383",
   "metadata": {},
   "outputs": [],
   "source": [
    "df[df['Engine HP'] < lower_limit]"
   ]
  },
  {
   "cell_type": "markdown",
   "id": "c8c83239",
   "metadata": {},
   "source": [
    "# Capping"
   ]
  },
  {
   "cell_type": "code",
   "execution_count": null,
   "id": "3d63a785",
   "metadata": {},
   "outputs": [],
   "source": [
    "new_df_cap = df.copy()\n",
    "\n",
    "new_df_cap['Engine HP'] = np.where(\n",
    "    new_df_cap['Engine HP'] > upper_limit,\n",
    "    upper_limit,\n",
    "    np.where(\n",
    "        new_df_cap['Engine HP'] < lower_limit,\n",
    "        lower_limit,\n",
    "        new_df_cap['Engine HP']\n",
    "    )\n",
    ")"
   ]
  },
  {
   "cell_type": "code",
   "execution_count": null,
   "id": "99889dc0",
   "metadata": {},
   "outputs": [],
   "source": [
    "new_df_cap.shape"
   ]
  },
  {
   "cell_type": "code",
   "execution_count": null,
   "id": "c0b210fc",
   "metadata": {},
   "outputs": [],
   "source": [
    "# Comparing\n",
    "\n",
    "plt.figure(figsize=(16,8))\n",
    "plt.subplot(2,2,1)\n",
    "sns.distplot(df['Engine HP'])\n",
    "\n",
    "plt.subplot(2,2,2)\n",
    "sns.boxplot(df['Engine HP'])\n",
    "\n",
    "plt.subplot(2,2,3)\n",
    "sns.distplot(new_df_cap['Engine HP'])\n",
    "\n",
    "plt.subplot(2,2,4)\n",
    "sns.boxplot(new_df_cap['Engine HP'])\n",
    "\n",
    "plt.show()\n"
   ]
  },
  {
   "cell_type": "markdown",
   "id": "48523c41",
   "metadata": {},
   "source": [
    "# Engine Cylinders"
   ]
  },
  {
   "cell_type": "code",
   "execution_count": null,
   "id": "4ed286b6",
   "metadata": {},
   "outputs": [],
   "source": [
    "plt.figure(figsize = (16,5))\n",
    "plt.subplot(1,2,1)\n",
    "sns.distplot(df['Engine Cylinders'])\n",
    "plt.show()"
   ]
  },
  {
   "cell_type": "code",
   "execution_count": null,
   "id": "4d3bfaf0",
   "metadata": {},
   "outputs": [],
   "source": [
    "df['Engine Cylinders'].skew()"
   ]
  },
  {
   "cell_type": "code",
   "execution_count": null,
   "id": "0050cbcf",
   "metadata": {},
   "outputs": [],
   "source": [
    "df['Engine Cylinders'].describe()"
   ]
  },
  {
   "cell_type": "markdown",
   "id": "32972646",
   "metadata": {},
   "source": [
    "# Finding the IQR\n"
   ]
  },
  {
   "cell_type": "code",
   "execution_count": null,
   "id": "a2f2295b",
   "metadata": {},
   "outputs": [],
   "source": [
    "percentile25 = df['Engine Cylinders'].quantile(0.25)\n",
    "percentile75 = df['Engine Cylinders'].quantile(0.75)"
   ]
  },
  {
   "cell_type": "code",
   "execution_count": null,
   "id": "611c59b4",
   "metadata": {},
   "outputs": [],
   "source": [
    "percentile25"
   ]
  },
  {
   "cell_type": "code",
   "execution_count": null,
   "id": "837f305f",
   "metadata": {},
   "outputs": [],
   "source": [
    "percentile75"
   ]
  },
  {
   "cell_type": "code",
   "execution_count": null,
   "id": "b4524dd1",
   "metadata": {},
   "outputs": [],
   "source": [
    "iqr = percentile75 - percentile25"
   ]
  },
  {
   "cell_type": "code",
   "execution_count": null,
   "id": "cf2c9c29",
   "metadata": {},
   "outputs": [],
   "source": [
    "iqr"
   ]
  },
  {
   "cell_type": "code",
   "execution_count": null,
   "id": "b4258275",
   "metadata": {},
   "outputs": [],
   "source": [
    "upper_limit = percentile75 + 1.5 * iqr\n",
    "lower_limit = percentile25 - 1.5 * iqr"
   ]
  },
  {
   "cell_type": "code",
   "execution_count": null,
   "id": "f1decb84",
   "metadata": {},
   "outputs": [],
   "source": [
    "print(\"Upper limit\", upper_limit)\n",
    "print(\"Lower limit\", lower_limit)"
   ]
  },
  {
   "cell_type": "markdown",
   "id": "16b3afd3",
   "metadata": {},
   "source": [
    "# Finding outliers"
   ]
  },
  {
   "cell_type": "code",
   "execution_count": null,
   "id": "da6953bf",
   "metadata": {},
   "outputs": [],
   "source": [
    "df[df['Engine Cylinders'] > upper_limit]"
   ]
  },
  {
   "cell_type": "code",
   "execution_count": null,
   "id": "7e36a2ca",
   "metadata": {},
   "outputs": [],
   "source": [
    "df[df['Engine Cylinders'] < lower_limit]"
   ]
  },
  {
   "cell_type": "markdown",
   "id": "43d065c5",
   "metadata": {},
   "source": [
    "# Capping"
   ]
  },
  {
   "cell_type": "code",
   "execution_count": null,
   "id": "d696d3e0",
   "metadata": {},
   "outputs": [],
   "source": [
    "ew_df_cap = df.copy()\n",
    "\n",
    "new_df_cap['Engine Cylinders'] = np.where(\n",
    "    new_df_cap['Engine Cylinders'] > upper_limit,\n",
    "    upper_limit,\n",
    "    np.where(\n",
    "        new_df_cap['Engine Cylinders'] < lower_limit,\n",
    "        lower_limit,\n",
    "        new_df_cap['Engine Cylinders']\n",
    "    )\n",
    ")"
   ]
  },
  {
   "cell_type": "code",
   "execution_count": null,
   "id": "1cf49b81",
   "metadata": {},
   "outputs": [],
   "source": [
    "new_df_cap.shape"
   ]
  },
  {
   "cell_type": "code",
   "execution_count": null,
   "id": "feb2d2d9",
   "metadata": {},
   "outputs": [],
   "source": [
    "# Comparing\n",
    "\n",
    "plt.figure(figsize=(16,8))\n",
    "plt.subplot(2,2,1)\n",
    "sns.distplot(df['Engine Cylinders'])\n",
    "\n",
    "plt.subplot(2,2,2)\n",
    "sns.boxplot(df['Engine Cylinders'])\n",
    "\n",
    "plt.subplot(2,2,3)\n",
    "sns.distplot(new_df_cap['Engine Cylinders'])\n",
    "\n",
    "plt.subplot(2,2,4)\n",
    "sns.boxplot(new_df_cap['Engine Cylinders'])\n",
    "\n",
    "plt.show()\n"
   ]
  },
  {
   "cell_type": "markdown",
   "id": "dbe7a565",
   "metadata": {},
   "source": [
    "# Highway MPG"
   ]
  },
  {
   "cell_type": "code",
   "execution_count": null,
   "id": "5c96065d",
   "metadata": {},
   "outputs": [],
   "source": [
    "plt.figure(figsize = (16,5))\n",
    "plt.subplot(1,2,1)\n",
    "sns.distplot(df['highway MPG'])\n",
    "plt.show()"
   ]
  },
  {
   "cell_type": "code",
   "execution_count": null,
   "id": "51357925",
   "metadata": {},
   "outputs": [],
   "source": [
    "df['highway MPG'].skew()"
   ]
  },
  {
   "cell_type": "code",
   "execution_count": null,
   "id": "6b8dc8ca",
   "metadata": {},
   "outputs": [],
   "source": [
    "df['highway MPG'].describe()"
   ]
  },
  {
   "cell_type": "markdown",
   "id": "82a2668a",
   "metadata": {},
   "source": [
    "# Finding the IQR\n"
   ]
  },
  {
   "cell_type": "code",
   "execution_count": null,
   "id": "4fd39996",
   "metadata": {},
   "outputs": [],
   "source": [
    "percentile25 = df['highway MPG'].quantile(0.25)\n",
    "percentile75 = df['highway MPG'].quantile(0.75)"
   ]
  },
  {
   "cell_type": "code",
   "execution_count": null,
   "id": "1bda9628",
   "metadata": {},
   "outputs": [],
   "source": [
    "percentile25"
   ]
  },
  {
   "cell_type": "code",
   "execution_count": null,
   "id": "4e6873e9",
   "metadata": {},
   "outputs": [],
   "source": [
    "percentile75"
   ]
  },
  {
   "cell_type": "code",
   "execution_count": null,
   "id": "32cbe624",
   "metadata": {},
   "outputs": [],
   "source": [
    "iqr = percentile75 - percentile25"
   ]
  },
  {
   "cell_type": "code",
   "execution_count": null,
   "id": "927a5277",
   "metadata": {},
   "outputs": [],
   "source": [
    "iqr"
   ]
  },
  {
   "cell_type": "code",
   "execution_count": null,
   "id": "d82e5c4d",
   "metadata": {},
   "outputs": [],
   "source": [
    "upper_limit = percentile75 + 1.5 * iqr\n",
    "lower_limit = percentile25 - 1.5 * iqr"
   ]
  },
  {
   "cell_type": "code",
   "execution_count": null,
   "id": "4b4a746c",
   "metadata": {},
   "outputs": [],
   "source": [
    "print(\"Upper limit\", upper_limit)\n",
    "print(\"Lower limit\", lower_limit)"
   ]
  },
  {
   "cell_type": "markdown",
   "id": "b7623b4b",
   "metadata": {},
   "source": [
    "# Finding outliers"
   ]
  },
  {
   "cell_type": "code",
   "execution_count": null,
   "id": "d5fe8223",
   "metadata": {},
   "outputs": [],
   "source": [
    "df[df['highway MPG'] > upper_limit]"
   ]
  },
  {
   "cell_type": "code",
   "execution_count": null,
   "id": "635353aa",
   "metadata": {},
   "outputs": [],
   "source": [
    "df[df['highway MPG'] < lower_limit]"
   ]
  },
  {
   "cell_type": "markdown",
   "id": "e92e2587",
   "metadata": {},
   "source": [
    "# Capping"
   ]
  },
  {
   "cell_type": "code",
   "execution_count": null,
   "id": "20d329b2",
   "metadata": {},
   "outputs": [],
   "source": [
    "new_df_cap = df.copy()\n",
    "\n",
    "new_df_cap['highway MPG'] = np.where(\n",
    "    new_df_cap['highway MPG'] > upper_limit,\n",
    "    upper_limit,\n",
    "    np.where(\n",
    "        new_df_cap['highway MPG'] < lower_limit,\n",
    "        lower_limit,\n",
    "        new_df_cap['highway MPG']\n",
    "    )\n",
    ")"
   ]
  },
  {
   "cell_type": "code",
   "execution_count": null,
   "id": "11ea2f2d",
   "metadata": {},
   "outputs": [],
   "source": [
    "new_df_cap.shape"
   ]
  },
  {
   "cell_type": "code",
   "execution_count": null,
   "id": "429e50a6",
   "metadata": {},
   "outputs": [],
   "source": [
    "# Comparing\n",
    "\n",
    "plt.figure(figsize=(16,8))\n",
    "plt.subplot(2,2,1)\n",
    "sns.distplot(df['highway MPG'])\n",
    "\n",
    "plt.subplot(2,2,2)\n",
    "sns.boxplot(df['highway MPG'])\n",
    "\n",
    "plt.subplot(2,2,3)\n",
    "sns.distplot(new_df_cap['highway MPG'])\n",
    "\n",
    "plt.subplot(2,2,4)\n",
    "sns.boxplot(new_df_cap['highway MPG'])\n",
    "\n",
    "plt.show()\n"
   ]
  },
  {
   "cell_type": "markdown",
   "id": "780d2107",
   "metadata": {},
   "source": [
    "# City MPG"
   ]
  },
  {
   "cell_type": "code",
   "execution_count": null,
   "id": "f97d3cbb",
   "metadata": {},
   "outputs": [],
   "source": [
    "plt.figure(figsize = (16,5))\n",
    "plt.subplot(1,2,1)\n",
    "sns.distplot(df['city mpg'])\n",
    "plt.show()"
   ]
  },
  {
   "cell_type": "code",
   "execution_count": null,
   "id": "ef8670ec",
   "metadata": {},
   "outputs": [],
   "source": [
    "df['city mpg'].skew()"
   ]
  },
  {
   "cell_type": "code",
   "execution_count": null,
   "id": "9b432b04",
   "metadata": {},
   "outputs": [],
   "source": [
    "df['city mpg'].describe()"
   ]
  },
  {
   "cell_type": "markdown",
   "id": "bd54677d",
   "metadata": {},
   "source": [
    "# Finding the IQR\n"
   ]
  },
  {
   "cell_type": "code",
   "execution_count": null,
   "id": "cc8af75f",
   "metadata": {},
   "outputs": [],
   "source": [
    "percentile25 = df['city mpg'].quantile(0.25)\n",
    "percentile75 = df['city mpg'].quantile(0.75)"
   ]
  },
  {
   "cell_type": "code",
   "execution_count": null,
   "id": "fafb110c",
   "metadata": {},
   "outputs": [],
   "source": [
    "percentile25"
   ]
  },
  {
   "cell_type": "code",
   "execution_count": null,
   "id": "e6180598",
   "metadata": {},
   "outputs": [],
   "source": [
    "percentile75"
   ]
  },
  {
   "cell_type": "code",
   "execution_count": null,
   "id": "72d7d52c",
   "metadata": {},
   "outputs": [],
   "source": [
    "iqr = percentile75 - percentile25"
   ]
  },
  {
   "cell_type": "code",
   "execution_count": null,
   "id": "25394f42",
   "metadata": {},
   "outputs": [],
   "source": [
    "iqr"
   ]
  },
  {
   "cell_type": "code",
   "execution_count": null,
   "id": "bcbb0f20",
   "metadata": {},
   "outputs": [],
   "source": [
    "upper_limit = percentile75 + 1.5 * iqr\n",
    "lower_limit = percentile25 - 1.5 * iqr"
   ]
  },
  {
   "cell_type": "code",
   "execution_count": null,
   "id": "6410b835",
   "metadata": {},
   "outputs": [],
   "source": [
    "print(\"Upper limit\", upper_limit)\n",
    "print(\"Lower limit\", lower_limit)"
   ]
  },
  {
   "cell_type": "markdown",
   "id": "d870a3f5",
   "metadata": {},
   "source": [
    "# Finding outliers"
   ]
  },
  {
   "cell_type": "code",
   "execution_count": null,
   "id": "89777acb",
   "metadata": {},
   "outputs": [],
   "source": [
    "df[df['city mpg'] > upper_limit]"
   ]
  },
  {
   "cell_type": "code",
   "execution_count": null,
   "id": "8e0c57cc",
   "metadata": {},
   "outputs": [],
   "source": [
    "df[df['city mpg'] < lower_limit]"
   ]
  },
  {
   "cell_type": "markdown",
   "id": "5d90137f",
   "metadata": {},
   "source": [
    "# Capping"
   ]
  },
  {
   "cell_type": "code",
   "execution_count": null,
   "id": "8f37ceab",
   "metadata": {},
   "outputs": [],
   "source": [
    "new_df_cap = df.copy()\n",
    "\n",
    "new_df_cap['city mpg'] = np.where(\n",
    "    new_df_cap['city mpg'] > upper_limit,\n",
    "    upper_limit,\n",
    "    np.where(\n",
    "        new_df_cap['city mpg'] < lower_limit,\n",
    "        lower_limit,\n",
    "        new_df_cap['city mpg']\n",
    "    )\n",
    ")"
   ]
  },
  {
   "cell_type": "code",
   "execution_count": null,
   "id": "9b31c5f3",
   "metadata": {},
   "outputs": [],
   "source": [
    "new_df_cap.shape"
   ]
  },
  {
   "cell_type": "code",
   "execution_count": null,
   "id": "8ac6d103",
   "metadata": {},
   "outputs": [],
   "source": [
    "# Comparing\n",
    "\n",
    "plt.figure(figsize=(16,8))\n",
    "plt.subplot(2,2,1)\n",
    "sns.distplot(df['city mpg'])\n",
    "\n",
    "plt.subplot(2,2,2)\n",
    "sns.boxplot(df['city mpg'])\n",
    "\n",
    "plt.subplot(2,2,3)\n",
    "sns.distplot(new_df_cap['city mpg'])\n",
    "\n",
    "plt.subplot(2,2,4)\n",
    "sns.boxplot(new_df_cap['city mpg'])\n",
    "\n",
    "plt.show()\n"
   ]
  },
  {
   "cell_type": "markdown",
   "id": "dc6d47c3",
   "metadata": {},
   "source": [
    "# Popularity"
   ]
  },
  {
   "cell_type": "code",
   "execution_count": null,
   "id": "387aa6e1",
   "metadata": {},
   "outputs": [],
   "source": [
    "plt.figure(figsize = (16,5))\n",
    "plt.subplot(1,2,1)\n",
    "sns.distplot(df['Popularity'])\n",
    "plt.show()"
   ]
  },
  {
   "cell_type": "code",
   "execution_count": null,
   "id": "23034280",
   "metadata": {},
   "outputs": [],
   "source": [
    "df['Popularity'].skew()"
   ]
  },
  {
   "cell_type": "code",
   "execution_count": null,
   "id": "474a6271",
   "metadata": {},
   "outputs": [],
   "source": [
    "df['Popularity'].describe()"
   ]
  },
  {
   "cell_type": "markdown",
   "id": "48cc983c",
   "metadata": {},
   "source": [
    "# Finding the IQR\n"
   ]
  },
  {
   "cell_type": "code",
   "execution_count": null,
   "id": "0471a4b6",
   "metadata": {},
   "outputs": [],
   "source": [
    "percentile25 = df['Popularity'].quantile(0.25)\n",
    "percentile75 = df['Popularity'].quantile(0.75)"
   ]
  },
  {
   "cell_type": "code",
   "execution_count": null,
   "id": "c89fe46a",
   "metadata": {},
   "outputs": [],
   "source": [
    "percentile25"
   ]
  },
  {
   "cell_type": "code",
   "execution_count": null,
   "id": "733b3f09",
   "metadata": {},
   "outputs": [],
   "source": [
    "percentile75"
   ]
  },
  {
   "cell_type": "code",
   "execution_count": null,
   "id": "2d7f4c99",
   "metadata": {},
   "outputs": [],
   "source": [
    "iqr = percentile75 - percentile25"
   ]
  },
  {
   "cell_type": "code",
   "execution_count": null,
   "id": "2b5f987d",
   "metadata": {},
   "outputs": [],
   "source": [
    "iqr"
   ]
  },
  {
   "cell_type": "code",
   "execution_count": null,
   "id": "7f3edfe0",
   "metadata": {},
   "outputs": [],
   "source": [
    "upper_limit = percentile75 + 1.5 * iqr\n",
    "lower_limit = percentile25 - 1.5 * iqr"
   ]
  },
  {
   "cell_type": "code",
   "execution_count": null,
   "id": "4ba14543",
   "metadata": {},
   "outputs": [],
   "source": [
    "print(\"Upper limit\", upper_limit)\n",
    "print(\"Lower limit\", lower_limit)"
   ]
  },
  {
   "cell_type": "markdown",
   "id": "60b23704",
   "metadata": {},
   "source": [
    "# Finding outliers"
   ]
  },
  {
   "cell_type": "code",
   "execution_count": null,
   "id": "20302b3a",
   "metadata": {},
   "outputs": [],
   "source": [
    "df[df['Popularity'] > upper_limit]"
   ]
  },
  {
   "cell_type": "code",
   "execution_count": null,
   "id": "2c9e4086",
   "metadata": {},
   "outputs": [],
   "source": [
    "df[df['Popularity'] < lower_limit]"
   ]
  },
  {
   "cell_type": "markdown",
   "id": "130ce8ad",
   "metadata": {},
   "source": [
    "# Capping"
   ]
  },
  {
   "cell_type": "code",
   "execution_count": null,
   "id": "5d05250c",
   "metadata": {},
   "outputs": [],
   "source": [
    "new_df_cap = df.copy()\n",
    "\n",
    "new_df_cap['Popularity'] = np.where(\n",
    "    new_df_cap['Popularity'] > upper_limit,\n",
    "    upper_limit,\n",
    "    np.where(\n",
    "        new_df_cap['Popularity'] < lower_limit,\n",
    "        lower_limit,\n",
    "        new_df_cap['Popularity']\n",
    "    )\n",
    ")"
   ]
  },
  {
   "cell_type": "code",
   "execution_count": null,
   "id": "0c2dd2fa",
   "metadata": {},
   "outputs": [],
   "source": [
    "new_df_cap.shape"
   ]
  },
  {
   "cell_type": "code",
   "execution_count": null,
   "id": "a5f10525",
   "metadata": {},
   "outputs": [],
   "source": [
    "# Comparing\n",
    "\n",
    "plt.figure(figsize=(16,8))\n",
    "plt.subplot(2,2,1)\n",
    "sns.distplot(df['Popularity'])\n",
    "\n",
    "plt.subplot(2,2,2)\n",
    "sns.boxplot(df['Popularity'])\n",
    "\n",
    "plt.subplot(2,2,3)\n",
    "sns.distplot(new_df_cap['Popularity'])\n",
    "\n",
    "plt.subplot(2,2,4)\n",
    "sns.boxplot(new_df_cap['Popularity'])\n",
    "\n",
    "plt.show()\n"
   ]
  },
  {
   "cell_type": "markdown",
   "id": "35d84364",
   "metadata": {},
   "source": [
    "# MSRP"
   ]
  },
  {
   "cell_type": "code",
   "execution_count": null,
   "id": "d9ea3322",
   "metadata": {},
   "outputs": [],
   "source": [
    "plt.figure(figsize = (16,5))\n",
    "plt.subplot(1,2,1)\n",
    "sns.distplot(df['MSRP'])\n",
    "plt.show()"
   ]
  },
  {
   "cell_type": "code",
   "execution_count": null,
   "id": "52ea246c",
   "metadata": {},
   "outputs": [],
   "source": [
    "df['MSRP'].skew()"
   ]
  },
  {
   "cell_type": "code",
   "execution_count": null,
   "id": "cafc2fe4",
   "metadata": {},
   "outputs": [],
   "source": [
    "df['MSRP'].describe()"
   ]
  },
  {
   "cell_type": "markdown",
   "id": "2057e5e2",
   "metadata": {},
   "source": [
    "# Finding the IQR\n"
   ]
  },
  {
   "cell_type": "code",
   "execution_count": null,
   "id": "6caa9e4a",
   "metadata": {},
   "outputs": [],
   "source": [
    "percentile25 = df['MSRP'].quantile(0.25)\n",
    "percentile75 = df['MSRP'].quantile(0.75)"
   ]
  },
  {
   "cell_type": "code",
   "execution_count": null,
   "id": "8f240cf0",
   "metadata": {},
   "outputs": [],
   "source": [
    "percentile25"
   ]
  },
  {
   "cell_type": "code",
   "execution_count": null,
   "id": "adc92c09",
   "metadata": {},
   "outputs": [],
   "source": [
    "percentile75"
   ]
  },
  {
   "cell_type": "code",
   "execution_count": null,
   "id": "2dc054b7",
   "metadata": {},
   "outputs": [],
   "source": [
    "iqr = percentile75 - percentile25"
   ]
  },
  {
   "cell_type": "code",
   "execution_count": null,
   "id": "0d741829",
   "metadata": {},
   "outputs": [],
   "source": [
    "iqr"
   ]
  },
  {
   "cell_type": "code",
   "execution_count": null,
   "id": "29918cc2",
   "metadata": {},
   "outputs": [],
   "source": [
    "upper_limit = percentile75 + 1.5 * iqr\n",
    "lower_limit = percentile25 - 1.5 * iqr"
   ]
  },
  {
   "cell_type": "code",
   "execution_count": null,
   "id": "0c4e90fe",
   "metadata": {},
   "outputs": [],
   "source": [
    "print(\"Upper limit\", upper_limit)\n",
    "print(\"Lower limit\", lower_limit)"
   ]
  },
  {
   "cell_type": "markdown",
   "id": "d4d63e91",
   "metadata": {},
   "source": [
    "# Finding outliers"
   ]
  },
  {
   "cell_type": "code",
   "execution_count": null,
   "id": "52bc4add",
   "metadata": {},
   "outputs": [],
   "source": [
    "df[df['MSRP'] > upper_limit]"
   ]
  },
  {
   "cell_type": "code",
   "execution_count": null,
   "id": "e38bb75f",
   "metadata": {},
   "outputs": [],
   "source": [
    "df[df['MSRP'] < lower_limit]"
   ]
  },
  {
   "cell_type": "markdown",
   "id": "632c13c5",
   "metadata": {},
   "source": [
    "# Capping"
   ]
  },
  {
   "cell_type": "code",
   "execution_count": null,
   "id": "05d911d0",
   "metadata": {},
   "outputs": [],
   "source": [
    "new_df_cap = df.copy()\n",
    "\n",
    "new_df_cap['MSRP'] = np.where(\n",
    "    new_df_cap['MSRP'] > upper_limit,\n",
    "    upper_limit,\n",
    "    np.where(\n",
    "        new_df_cap['MSRP'] < lower_limit,\n",
    "        lower_limit,\n",
    "        new_df_cap['MSRP']\n",
    "    )\n",
    ")"
   ]
  },
  {
   "cell_type": "code",
   "execution_count": null,
   "id": "a2083bde",
   "metadata": {},
   "outputs": [],
   "source": [
    "new_df_cap.shape"
   ]
  },
  {
   "cell_type": "code",
   "execution_count": null,
   "id": "77aab098",
   "metadata": {},
   "outputs": [],
   "source": [
    "# Comparing\n",
    "\n",
    "plt.figure(figsize=(16,8))\n",
    "plt.subplot(2,2,1)\n",
    "sns.distplot(df['MSRP'])\n",
    "\n",
    "plt.subplot(2,2,2)\n",
    "sns.boxplot(df['MSRP'])\n",
    "\n",
    "plt.subplot(2,2,3)\n",
    "sns.distplot(new_df_cap['MSRP'])\n",
    "\n",
    "plt.subplot(2,2,4)\n",
    "sns.boxplot(new_df_cap['MSRP'])\n",
    "\n",
    "plt.show()\n"
   ]
  },
  {
   "cell_type": "markdown",
   "id": "2ed4cc08",
   "metadata": {},
   "source": [
    "# Byvariet Analysis"
   ]
  },
  {
   "cell_type": "markdown",
   "id": "c10b5d65",
   "metadata": {},
   "source": [
    "## Scatter Plot"
   ]
  },
  {
   "cell_type": "code",
   "execution_count": null,
   "id": "26dcd63c",
   "metadata": {},
   "outputs": [],
   "source": [
    "plt.scatter(df.Year, df.MSRP)\n",
    "plt.show()"
   ]
  },
  {
   "cell_type": "code",
   "execution_count": null,
   "id": "1ab1f71b",
   "metadata": {},
   "outputs": [],
   "source": [
    "plt.scatter(df.Year, df.MSRP, alpha = 0.2, s = 50, c = 'green')\n",
    "plt.show()"
   ]
  },
  {
   "cell_type": "markdown",
   "id": "c59b355a",
   "metadata": {},
   "source": [
    "### Observation"
   ]
  },
  {
   "cell_type": "markdown",
   "id": "65ec362d",
   "metadata": {},
   "source": [
    "- When years passes the MSRP of car also Incrases."
   ]
  },
  {
   "cell_type": "code",
   "execution_count": null,
   "id": "d0ab9df4",
   "metadata": {},
   "outputs": [],
   "source": [
    "plt.scatter(df.Year, df.Popularity)\n",
    "plt.show()"
   ]
  },
  {
   "cell_type": "code",
   "execution_count": null,
   "id": "1a15cd5d",
   "metadata": {},
   "outputs": [],
   "source": [
    "plt.scatter(df.Year, df.Popularity, alpha = 0.2, s = 50, c = 'red')\n",
    "plt.show()"
   ]
  },
  {
   "cell_type": "markdown",
   "id": "0643876d",
   "metadata": {},
   "source": [
    "## Joint Plot"
   ]
  },
  {
   "cell_type": "markdown",
   "id": "e46f4694",
   "metadata": {},
   "source": [
    "- There is scatterplot and histogram both in one plot."
   ]
  },
  {
   "cell_type": "code",
   "execution_count": null,
   "id": "cc8c5aa7",
   "metadata": {},
   "outputs": [],
   "source": [
    "sns.jointplot(df.Year, df.MSRP)\n",
    "plt.show()"
   ]
  },
  {
   "cell_type": "markdown",
   "id": "28a744de",
   "metadata": {},
   "source": [
    "## Observation"
   ]
  },
  {
   "cell_type": "markdown",
   "id": "217fbabb",
   "metadata": {},
   "source": [
    "- In the year 2015 people buy those cars which MSRP is between 50000 and 100000"
   ]
  },
  {
   "cell_type": "markdown",
   "id": "ffd3d867",
   "metadata": {},
   "source": [
    "## Side by Side BoxPlot"
   ]
  },
  {
   "cell_type": "code",
   "execution_count": null,
   "id": "87368df1",
   "metadata": {},
   "outputs": [],
   "source": [
    "## one numeric and one category\n",
    "\n",
    "sns.boxplot(data = df, x = 'Make', y = 'Year')\n",
    "plt.show()"
   ]
  },
  {
   "cell_type": "code",
   "execution_count": null,
   "id": "b45f07b3",
   "metadata": {},
   "outputs": [],
   "source": [
    "sns.boxplot(data = df, x = 'Vehicle Size', y = 'Year')\n",
    "plt.show()"
   ]
  },
  {
   "cell_type": "markdown",
   "id": "21c4d6a7",
   "metadata": {},
   "source": [
    "## Observation"
   ]
  },
  {
   "cell_type": "markdown",
   "id": "2d0c52de",
   "metadata": {},
   "source": [
    "- Between 2005-2018 people bought maximum the compact cars.\n",
    "- Between 2008-2017 people bought maximum the compact cars.\n",
    "- Between 2007-2017 people bought maximum the compact cars.\n"
   ]
  },
  {
   "cell_type": "code",
   "execution_count": null,
   "id": "d2e61ba7",
   "metadata": {},
   "outputs": [],
   "source": [
    "sns.boxplot(data = df, x = 'Popularity', y = 'Engine Fuel Type')\n",
    "plt.show()"
   ]
  },
  {
   "cell_type": "markdown",
   "id": "5daf9f50",
   "metadata": {},
   "source": [
    "## Observation"
   ]
  },
  {
   "cell_type": "markdown",
   "id": "dd03eb1e",
   "metadata": {},
   "source": [
    "- Mostly people prefer flex-fuel(unleaded/E85) Engine type.\n",
    "- Least people using flex-fuel(premium unleaded required/E85)"
   ]
  },
  {
   "cell_type": "markdown",
   "id": "a9630ebc",
   "metadata": {},
   "source": [
    "## Pairplot"
   ]
  },
  {
   "cell_type": "code",
   "execution_count": null,
   "id": "2dc1eea5",
   "metadata": {},
   "outputs": [],
   "source": [
    "## all numeric columns\n",
    "sns.pairplot(df[['Year', 'Engine HP', 'Engine Cylinders', 'Number of Doors', 'highway MPG', 'city mpg', 'Popularity', 'MSRP']])\n",
    "plt.xticks(rotation = 90)\n",
    "plt.show()"
   ]
  },
  {
   "cell_type": "markdown",
   "id": "c308c7cc",
   "metadata": {},
   "source": [
    "## Observation\n"
   ]
  },
  {
   "cell_type": "markdown",
   "id": "72e93927",
   "metadata": {},
   "source": [
    "- Pairplot with same column gives Barplot\n",
    "- Pairplot with other columns gives Scatterplot"
   ]
  },
  {
   "cell_type": "markdown",
   "id": "83defe74",
   "metadata": {},
   "source": [
    "## Heat Map"
   ]
  },
  {
   "cell_type": "code",
   "execution_count": null,
   "id": "54140c5c",
   "metadata": {},
   "outputs": [],
   "source": [
    "cor1=df.corr()"
   ]
  },
  {
   "cell_type": "code",
   "execution_count": null,
   "id": "e9855be3",
   "metadata": {},
   "outputs": [],
   "source": [
    "sns.heatmap(cor1,annot=True)\n",
    "plt.show()"
   ]
  },
  {
   "cell_type": "markdown",
   "id": "f5018292",
   "metadata": {},
   "source": [
    "## Barplot"
   ]
  },
  {
   "cell_type": "code",
   "execution_count": null,
   "id": "f889287e",
   "metadata": {},
   "outputs": [],
   "source": [
    "## groupby\n",
    "df = df.groupby(['Vehicle Size'])['Engine HP'].mean()\n",
    "df"
   ]
  },
  {
   "cell_type": "code",
   "execution_count": null,
   "id": "74f8b734",
   "metadata": {},
   "outputs": [],
   "source": [
    "plt.figure(figsize = (6,4))\n",
    "df.plot.bar()\n",
    "plt.xlabel('Vehicle Size')\n",
    "plt.ylabel('Mean Engine HP')\n",
    "plt.show()"
   ]
  },
  {
   "cell_type": "code",
   "execution_count": null,
   "id": "413468c5",
   "metadata": {},
   "outputs": [],
   "source": []
  }
 ],
 "metadata": {
  "kernelspec": {
   "display_name": "Python 3 (ipykernel)",
   "language": "python",
   "name": "python3"
  },
  "language_info": {
   "codemirror_mode": {
    "name": "ipython",
    "version": 3
   },
   "file_extension": ".py",
   "mimetype": "text/x-python",
   "name": "python",
   "nbconvert_exporter": "python",
   "pygments_lexer": "ipython3",
   "version": "3.9.12"
  }
 },
 "nbformat": 4,
 "nbformat_minor": 5
}
